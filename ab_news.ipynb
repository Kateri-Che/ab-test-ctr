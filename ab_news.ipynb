{
 "cells": [
  {
   "cell_type": "code",
   "execution_count": 62,
   "id": "d10851b9-ea5c-4f8f-996f-daa086836e9e",
   "metadata": {},
   "outputs": [],
   "source": [
    "import pandas as pd\n",
    "import numpy as np\n",
    "import seaborn as sns\n",
    "import pandahouse as ph\n",
    "import scipy.stats\n",
    "import pingouin as pg\n",
    "from matplotlib import pyplot as plt\n",
    "\n",
    "import os\n",
    "from dotenv import load_dotenv\n",
    "\n",
    "load_dotenv()"
   ]
  },
  {
   "cell_type": "code",
   "execution_count": 63,
   "id": "0cc4bd00-509e-4bf9-9fd9-fd2104fa1303",
   "metadata": {},
   "outputs": [],
   "source": [
    "#подключимся к датасету через clickhouse\n",
    "connection = {\n",
    "    'host': os.getenv('CLICKHOUSE_HOST'),\n",
    "    'password': os.getenv('CLICKHOUSE_PASSWORD'),\n",
    "    'user': os.getenv('CLICKHOUSE_USER'),\n",
    "    'database': os.getenv('CLICKHOUSE_DATABASE')\n",
    "}"
   ]
  },
  {
   "cell_type": "markdown",
   "id": "40240e38-a04e-4efa-9e49-116402a1adc6",
   "metadata": {},
   "source": [
    "Прежде чем анализировать результат A/B эксперимента между группой 2 и 1 убедимся, что работа системы сплитования была выстроена корректно, и ключевая метрика CTR до эксперимента не отличается в группах.\n",
    "\n",
    "Для этого:\n",
    "\n",
    " - Возьмем данные АА-теста из доэкспериментального диапазона: с '2024-09-20' по '2024-09-26'\n",
    "\n",
    " - Из групп 2 и 1 возьмём подвыборки без возвращения размером в 500 пользователей\n",
    "\n",
    " - Сравним их t-тестом и сохраним p-value\n",
    "\n",
    " - Повторим это 10000 раз\n",
    "\n",
    " - Нарисуем гистограмму получившихся p-value и посчитаем долю p-value, оказавшихся ниже порога значимости в 0.05."
   ]
  },
  {
   "cell_type": "code",
   "execution_count": 64,
   "id": "2f27accc-3f6a-403c-971e-055668fa903a",
   "metadata": {},
   "outputs": [
    {
     "data": {
      "text/html": [
       "<div>\n",
       "<style scoped>\n",
       "    .dataframe tbody tr th:only-of-type {\n",
       "        vertical-align: middle;\n",
       "    }\n",
       "\n",
       "    .dataframe tbody tr th {\n",
       "        vertical-align: top;\n",
       "    }\n",
       "\n",
       "    .dataframe thead th {\n",
       "        text-align: right;\n",
       "    }\n",
       "</style>\n",
       "<table border=\"1\" class=\"dataframe\">\n",
       "  <thead>\n",
       "    <tr style=\"text-align: right;\">\n",
       "      <th></th>\n",
       "      <th>exp_group</th>\n",
       "      <th>user_id</th>\n",
       "      <th>likes</th>\n",
       "      <th>views</th>\n",
       "      <th>ctr</th>\n",
       "    </tr>\n",
       "  </thead>\n",
       "  <tbody>\n",
       "    <tr>\n",
       "      <th>0</th>\n",
       "      <td>1</td>\n",
       "      <td>109963</td>\n",
       "      <td>10</td>\n",
       "      <td>34</td>\n",
       "      <td>0.294118</td>\n",
       "    </tr>\n",
       "    <tr>\n",
       "      <th>1</th>\n",
       "      <td>1</td>\n",
       "      <td>18392</td>\n",
       "      <td>13</td>\n",
       "      <td>56</td>\n",
       "      <td>0.232143</td>\n",
       "    </tr>\n",
       "    <tr>\n",
       "      <th>2</th>\n",
       "      <td>2</td>\n",
       "      <td>131473</td>\n",
       "      <td>19</td>\n",
       "      <td>98</td>\n",
       "      <td>0.193878</td>\n",
       "    </tr>\n",
       "    <tr>\n",
       "      <th>3</th>\n",
       "      <td>2</td>\n",
       "      <td>23985</td>\n",
       "      <td>12</td>\n",
       "      <td>44</td>\n",
       "      <td>0.272727</td>\n",
       "    </tr>\n",
       "    <tr>\n",
       "      <th>4</th>\n",
       "      <td>2</td>\n",
       "      <td>24523</td>\n",
       "      <td>2</td>\n",
       "      <td>10</td>\n",
       "      <td>0.200000</td>\n",
       "    </tr>\n",
       "    <tr>\n",
       "      <th>...</th>\n",
       "      <td>...</td>\n",
       "      <td>...</td>\n",
       "      <td>...</td>\n",
       "      <td>...</td>\n",
       "      <td>...</td>\n",
       "    </tr>\n",
       "    <tr>\n",
       "      <th>16848</th>\n",
       "      <td>2</td>\n",
       "      <td>17146</td>\n",
       "      <td>23</td>\n",
       "      <td>194</td>\n",
       "      <td>0.118557</td>\n",
       "    </tr>\n",
       "    <tr>\n",
       "      <th>16849</th>\n",
       "      <td>1</td>\n",
       "      <td>132567</td>\n",
       "      <td>9</td>\n",
       "      <td>27</td>\n",
       "      <td>0.333333</td>\n",
       "    </tr>\n",
       "    <tr>\n",
       "      <th>16850</th>\n",
       "      <td>2</td>\n",
       "      <td>25383</td>\n",
       "      <td>2</td>\n",
       "      <td>18</td>\n",
       "      <td>0.111111</td>\n",
       "    </tr>\n",
       "    <tr>\n",
       "      <th>16851</th>\n",
       "      <td>2</td>\n",
       "      <td>108927</td>\n",
       "      <td>16</td>\n",
       "      <td>51</td>\n",
       "      <td>0.313725</td>\n",
       "    </tr>\n",
       "    <tr>\n",
       "      <th>16852</th>\n",
       "      <td>2</td>\n",
       "      <td>17310</td>\n",
       "      <td>24</td>\n",
       "      <td>75</td>\n",
       "      <td>0.320000</td>\n",
       "    </tr>\n",
       "  </tbody>\n",
       "</table>\n",
       "<p>16853 rows × 5 columns</p>\n",
       "</div>"
      ],
      "text/plain": [
       "       exp_group  user_id  likes  views       ctr\n",
       "0              1   109963     10     34  0.294118\n",
       "1              1    18392     13     56  0.232143\n",
       "2              2   131473     19     98  0.193878\n",
       "3              2    23985     12     44  0.272727\n",
       "4              2    24523      2     10  0.200000\n",
       "...          ...      ...    ...    ...       ...\n",
       "16848          2    17146     23    194  0.118557\n",
       "16849          1   132567      9     27  0.333333\n",
       "16850          2    25383      2     18  0.111111\n",
       "16851          2   108927     16     51  0.313725\n",
       "16852          2    17310     24     75  0.320000\n",
       "\n",
       "[16853 rows x 5 columns]"
      ]
     },
     "execution_count": 64,
     "metadata": {},
     "output_type": "execute_result"
    }
   ],
   "source": [
    "q = \"\"\"\n",
    "SELECT exp_group, \n",
    "    user_id,\n",
    "    sum(action = 'like') as likes,\n",
    "    sum(action = 'view') as views,\n",
    "    likes/views as ctr\n",
    "FROM {db}.feed_actions \n",
    "WHERE toDate(time) between '2024-09-20' and '2024-09-26'\n",
    "    and exp_group in (2,1)\n",
    "GROUP BY exp_group, user_id\n",
    "\"\"\"\n",
    "\n",
    "df_aa = ph.read_clickhouse(q, connection=connection)\n",
    "df_aa"
   ]
  },
  {
   "cell_type": "code",
   "execution_count": 65,
   "id": "adea8cde-f33d-4967-9022-78302c8d3580",
   "metadata": {},
   "outputs": [
    {
     "data": {
      "text/plain": [
       "<Axes: xlabel='Theoretical quantiles', ylabel='Ordered quantiles'>"
      ]
     },
     "execution_count": 65,
     "metadata": {},
     "output_type": "execute_result"
    },
    {
     "data": {
      "image/png": "[encoded data removed]",
      "text/plain": [
       "<Figure size 576x360 with 1 Axes>"
      ]
     },
     "metadata": {},
     "output_type": "display_data"
    }
   ],
   "source": [
    "pg.qqplot(df_aa.query('exp_group == 1')['ctr'])"
   ]
  },
  {
   "cell_type": "code",
   "execution_count": 66,
   "id": "b122aa42-fef1-4d36-b510-d9cd9d9908a5",
   "metadata": {},
   "outputs": [
    {
     "data": {
      "text/plain": [
       "<Axes: xlabel='Theoretical quantiles', ylabel='Ordered quantiles'>"
      ]
     },
     "execution_count": 66,
     "metadata": {},
     "output_type": "execute_result"
    },
    {
     "data": {
      "image/png": "[encoded data removed]",
      "text/plain": [
       "<Figure size 576x360 with 1 Axes>"
      ]
     },
     "metadata": {},
     "output_type": "display_data"
    }
   ],
   "source": [
    "pg.qqplot(df_aa.query('exp_group == 2')['ctr'])"
   ]
  },
  {
   "cell_type": "code",
   "execution_count": 67,
   "id": "c222a3e5-81a0-4616-9f55-6f595afcdb09",
   "metadata": {},
   "outputs": [
    {
     "name": "stderr",
     "output_type": "stream",
     "text": [
      "/opt/conda/lib/python3.8/site-packages/scipy/stats/_morestats.py:1816: UserWarning: p-value may not be accurate for N > 5000.\n",
      "  warnings.warn(\"p-value may not be accurate for N > 5000.\")\n",
      "/opt/conda/lib/python3.8/site-packages/scipy/stats/_morestats.py:1816: UserWarning: p-value may not be accurate for N > 5000.\n",
      "  warnings.warn(\"p-value may not be accurate for N > 5000.\")\n"
     ]
    },
    {
     "data": {
      "text/html": [
       "<div>\n",
       "<style scoped>\n",
       "    .dataframe tbody tr th:only-of-type {\n",
       "        vertical-align: middle;\n",
       "    }\n",
       "\n",
       "    .dataframe tbody tr th {\n",
       "        vertical-align: top;\n",
       "    }\n",
       "\n",
       "    .dataframe thead th {\n",
       "        text-align: right;\n",
       "    }\n",
       "</style>\n",
       "<table border=\"1\" class=\"dataframe\">\n",
       "  <thead>\n",
       "    <tr style=\"text-align: right;\">\n",
       "      <th></th>\n",
       "      <th>W</th>\n",
       "      <th>pval</th>\n",
       "      <th>normal</th>\n",
       "    </tr>\n",
       "    <tr>\n",
       "      <th>exp_group</th>\n",
       "      <th></th>\n",
       "      <th></th>\n",
       "      <th></th>\n",
       "    </tr>\n",
       "  </thead>\n",
       "  <tbody>\n",
       "    <tr>\n",
       "      <th>1</th>\n",
       "      <td>0.947013</td>\n",
       "      <td>0.0</td>\n",
       "      <td>False</td>\n",
       "    </tr>\n",
       "    <tr>\n",
       "      <th>2</th>\n",
       "      <td>0.947347</td>\n",
       "      <td>0.0</td>\n",
       "      <td>False</td>\n",
       "    </tr>\n",
       "  </tbody>\n",
       "</table>\n",
       "</div>"
      ],
      "text/plain": [
       "                  W  pval  normal\n",
       "exp_group                        \n",
       "1          0.947013   0.0   False\n",
       "2          0.947347   0.0   False"
      ]
     },
     "execution_count": 67,
     "metadata": {},
     "output_type": "execute_result"
    }
   ],
   "source": [
    "pg.normality(data=df_aa, dv=\"ctr\", group=\"exp_group\", method=\"shapiro\")"
   ]
  },
  {
   "cell_type": "code",
   "execution_count": 68,
   "id": "f955f37b-c978-428e-8e78-9da297f4b0cd",
   "metadata": {},
   "outputs": [
    {
     "data": {
      "text/html": [
       "<div>\n",
       "<style scoped>\n",
       "    .dataframe tbody tr th:only-of-type {\n",
       "        vertical-align: middle;\n",
       "    }\n",
       "\n",
       "    .dataframe tbody tr th {\n",
       "        vertical-align: top;\n",
       "    }\n",
       "\n",
       "    .dataframe thead th {\n",
       "        text-align: right;\n",
       "    }\n",
       "</style>\n",
       "<table border=\"1\" class=\"dataframe\">\n",
       "  <thead>\n",
       "    <tr style=\"text-align: right;\">\n",
       "      <th></th>\n",
       "      <th>W</th>\n",
       "      <th>pval</th>\n",
       "      <th>equal_var</th>\n",
       "    </tr>\n",
       "  </thead>\n",
       "  <tbody>\n",
       "    <tr>\n",
       "      <th>levene</th>\n",
       "      <td>0.031427</td>\n",
       "      <td>0.859293</td>\n",
       "      <td>True</td>\n",
       "    </tr>\n",
       "  </tbody>\n",
       "</table>\n",
       "</div>"
      ],
      "text/plain": [
       "               W      pval  equal_var\n",
       "levene  0.031427  0.859293       True"
      ]
     },
     "execution_count": 68,
     "metadata": {},
     "output_type": "execute_result"
    }
   ],
   "source": [
    "pg.homoscedasticity(data=df_aa, dv=\"ctr\", group=\"exp_group\")"
   ]
  },
  {
   "cell_type": "markdown",
   "id": "a0e564e5-9c2c-4d84-91bf-3e79d781e8d0",
   "metadata": {},
   "source": [
    "Распределение CTR в группах до эксперимента ненормальное, дисперсии равны. Выборка достаточно большая, применяем t-тест."
   ]
  },
  {
   "cell_type": "code",
   "execution_count": 69,
   "id": "14fb8d2e-dec4-49c5-9386-a5e87b132335",
   "metadata": {},
   "outputs": [],
   "source": [
    "pvalues = list()\n",
    "sample_size = 500 # 500 пользователей\n",
    "for _ in range(10000):\n",
    "    # Случайная выборка 500 пользователей из каждой группы без возвращения\n",
    "    sample_group2 = df_aa.query('exp_group == 2').sample(n=sample_size, replace=False)\n",
    "    sample_group1 = df_aa.query('exp_group == 1').sample(n=sample_size, replace=False)\n",
    "    p_value = scipy.stats.ttest_ind(sample_group2['ctr'], sample_group1['ctr'], equal_var=True)[1]\n",
    "    pvalues.append(p_value)"
   ]
  },
  {
   "cell_type": "code",
   "execution_count": 70,
   "id": "0a46654d-4c47-4aab-869e-7047a308205c",
   "metadata": {},
   "outputs": [],
   "source": [
    "pv_df_aa = pd.DataFrame(pvalues, columns=['p_value'])"
   ]
  },
  {
   "cell_type": "code",
   "execution_count": 71,
   "id": "5a5f05e2-e19d-474a-b703-79f225daa186",
   "metadata": {},
   "outputs": [
    {
     "data": {
      "text/plain": [
       "<Axes: xlabel='p_value', ylabel='Count'>"
      ]
     },
     "execution_count": 71,
     "metadata": {},
     "output_type": "execute_result"
    },
    {
     "data": {
      "image/png": "[encoded data removed]",
      "text/plain": [
       "<Figure size 576x360 with 1 Axes>"
      ]
     },
     "metadata": {},
     "output_type": "display_data"
    }
   ],
   "source": [
    "sns.histplot(data = pv_df_aa, \n",
    "              x='p_value')"
   ]
  },
  {
   "cell_type": "code",
   "execution_count": 72,
   "id": "70b1a39d-4bc8-4547-a754-94c60a1f2a32",
   "metadata": {},
   "outputs": [
    {
     "data": {
      "text/plain": [
       "0.0472"
      ]
     },
     "execution_count": 72,
     "metadata": {},
     "output_type": "execute_result"
    }
   ],
   "source": [
    "((pv_df_aa['p_value'] < 0.05).sum()) / pv_df_aa['p_value'].count() # sum, т.к. метод возвращает булевы значения True(1) или False(0)"
   ]
  },
  {
   "cell_type": "markdown",
   "id": "9d8cb131-83b2-4111-baa1-b8644faa873d",
   "metadata": {},
   "source": [
    "Распределение p-value равномерно, доля p-value ниже порога значимости около 0.0472, т.е. только в 5 % случаев мы фиксируем ошибку 1 рода, значит, система сплитования работает корректно."
   ]
  },
  {
   "cell_type": "markdown",
   "id": "c624cbf6-89c0-4a5a-a3a5-9cb5fc0328cd",
   "metadata": {},
   "source": [
    "Теперь уже посмотрим на **CTR в тестовой и контрольной группах в даты проведения эксперимента с 2024-09-27 по 2024-10-03**."
   ]
  },
  {
   "cell_type": "code",
   "execution_count": 73,
   "id": "5b5bc48c-91ed-472d-9e36-83cf151ef11c",
   "metadata": {},
   "outputs": [
    {
     "data": {
      "text/html": [
       "<div>\n",
       "<style scoped>\n",
       "    .dataframe tbody tr th:only-of-type {\n",
       "        vertical-align: middle;\n",
       "    }\n",
       "\n",
       "    .dataframe tbody tr th {\n",
       "        vertical-align: top;\n",
       "    }\n",
       "\n",
       "    .dataframe thead th {\n",
       "        text-align: right;\n",
       "    }\n",
       "</style>\n",
       "<table border=\"1\" class=\"dataframe\">\n",
       "  <thead>\n",
       "    <tr style=\"text-align: right;\">\n",
       "      <th></th>\n",
       "      <th>exp_group</th>\n",
       "      <th>user_id</th>\n",
       "      <th>likes</th>\n",
       "      <th>views</th>\n",
       "      <th>ctr</th>\n",
       "    </tr>\n",
       "  </thead>\n",
       "  <tbody>\n",
       "    <tr>\n",
       "      <th>0</th>\n",
       "      <td>1</td>\n",
       "      <td>109963</td>\n",
       "      <td>3</td>\n",
       "      <td>15</td>\n",
       "      <td>0.200000</td>\n",
       "    </tr>\n",
       "    <tr>\n",
       "      <th>1</th>\n",
       "      <td>1</td>\n",
       "      <td>26117</td>\n",
       "      <td>32</td>\n",
       "      <td>141</td>\n",
       "      <td>0.226950</td>\n",
       "    </tr>\n",
       "    <tr>\n",
       "      <th>2</th>\n",
       "      <td>1</td>\n",
       "      <td>138232</td>\n",
       "      <td>18</td>\n",
       "      <td>73</td>\n",
       "      <td>0.246575</td>\n",
       "    </tr>\n",
       "    <tr>\n",
       "      <th>3</th>\n",
       "      <td>1</td>\n",
       "      <td>26295</td>\n",
       "      <td>39</td>\n",
       "      <td>141</td>\n",
       "      <td>0.276596</td>\n",
       "    </tr>\n",
       "    <tr>\n",
       "      <th>4</th>\n",
       "      <td>1</td>\n",
       "      <td>18392</td>\n",
       "      <td>7</td>\n",
       "      <td>32</td>\n",
       "      <td>0.218750</td>\n",
       "    </tr>\n",
       "    <tr>\n",
       "      <th>...</th>\n",
       "      <td>...</td>\n",
       "      <td>...</td>\n",
       "      <td>...</td>\n",
       "      <td>...</td>\n",
       "      <td>...</td>\n",
       "    </tr>\n",
       "    <tr>\n",
       "      <th>19892</th>\n",
       "      <td>1</td>\n",
       "      <td>132567</td>\n",
       "      <td>52</td>\n",
       "      <td>326</td>\n",
       "      <td>0.159509</td>\n",
       "    </tr>\n",
       "    <tr>\n",
       "      <th>19893</th>\n",
       "      <td>1</td>\n",
       "      <td>30872</td>\n",
       "      <td>11</td>\n",
       "      <td>59</td>\n",
       "      <td>0.186441</td>\n",
       "    </tr>\n",
       "    <tr>\n",
       "      <th>19894</th>\n",
       "      <td>2</td>\n",
       "      <td>25383</td>\n",
       "      <td>42</td>\n",
       "      <td>127</td>\n",
       "      <td>0.330709</td>\n",
       "    </tr>\n",
       "    <tr>\n",
       "      <th>19895</th>\n",
       "      <td>2</td>\n",
       "      <td>139020</td>\n",
       "      <td>17</td>\n",
       "      <td>41</td>\n",
       "      <td>0.414634</td>\n",
       "    </tr>\n",
       "    <tr>\n",
       "      <th>19896</th>\n",
       "      <td>2</td>\n",
       "      <td>17310</td>\n",
       "      <td>9</td>\n",
       "      <td>82</td>\n",
       "      <td>0.109756</td>\n",
       "    </tr>\n",
       "  </tbody>\n",
       "</table>\n",
       "<p>19897 rows × 5 columns</p>\n",
       "</div>"
      ],
      "text/plain": [
       "       exp_group  user_id  likes  views       ctr\n",
       "0              1   109963      3     15  0.200000\n",
       "1              1    26117     32    141  0.226950\n",
       "2              1   138232     18     73  0.246575\n",
       "3              1    26295     39    141  0.276596\n",
       "4              1    18392      7     32  0.218750\n",
       "...          ...      ...    ...    ...       ...\n",
       "19892          1   132567     52    326  0.159509\n",
       "19893          1    30872     11     59  0.186441\n",
       "19894          2    25383     42    127  0.330709\n",
       "19895          2   139020     17     41  0.414634\n",
       "19896          2    17310      9     82  0.109756\n",
       "\n",
       "[19897 rows x 5 columns]"
      ]
     },
     "execution_count": 73,
     "metadata": {},
     "output_type": "execute_result"
    }
   ],
   "source": [
    "# данные (количество, лайков, CTR) в тестовой и контрольной группах в даты проведения эксперимента\n",
    "q = \"\"\"\n",
    "SELECT exp_group, \n",
    "    user_id,\n",
    "    sum(action = 'like') as likes,\n",
    "    sum(action = 'view') as views,\n",
    "    likes/views as ctr\n",
    "FROM {db}.feed_actions \n",
    "WHERE toDate(time) between '2024-09-27' and '2024-10-03'\n",
    "    and exp_group in (1,2)\n",
    "GROUP BY exp_group, user_id\n",
    "\"\"\"\n",
    "df = ph.read_clickhouse(q, connection=connection)\n",
    "df"
   ]
  },
  {
   "cell_type": "code",
   "execution_count": 74,
   "id": "d559df2f-c46a-4599-9b77-798ae4b59ed5",
   "metadata": {},
   "outputs": [
    {
     "data": {
      "text/plain": [
       "exp_group\n",
       "1    0.216774\n",
       "2    0.216102\n",
       "Name: ctr, dtype: float64"
      ]
     },
     "execution_count": 74,
     "metadata": {},
     "output_type": "execute_result"
    }
   ],
   "source": [
    "# посмотрим на средний CTR в двух группах\n",
    "df.groupby('exp_group')['ctr'].mean()"
   ]
  },
  {
   "cell_type": "markdown",
   "id": "a1ae8d38-b501-4e27-945e-d70c61389dc4",
   "metadata": {},
   "source": [
    "Визуально кажется, что различия в метрике CTR в тестовой и контрольной группах есть. Однако, визуально CTR в тестовой группе немного ниже, чем в контрольной. Посмотрим, что на это \"скажут\" статистические тесты."
   ]
  },
  {
   "cell_type": "markdown",
   "id": "fdd28ea8-7db1-4df0-8446-276c374ccd2a",
   "metadata": {},
   "source": [
    "Прежде чем приступать к тестам, проверим данные на нормальность и равенство дисперсий."
   ]
  },
  {
   "cell_type": "code",
   "execution_count": 75,
   "id": "1e820936-0846-4a25-9fe3-dabf2360af49",
   "metadata": {},
   "outputs": [
    {
     "data": {
      "text/plain": [
       "<Axes: xlabel='ctr', ylabel='Count'>"
      ]
     },
     "execution_count": 75,
     "metadata": {},
     "output_type": "execute_result"
    },
    {
     "data": {
      "image/png": "[encoded data removed]",
      "text/plain": [
       "<Figure size 576x360 with 1 Axes>"
      ]
     },
     "metadata": {},
     "output_type": "display_data"
    }
   ],
   "source": [
    "#построим гистограмму и посмотрим на CTR контрольной группы\n",
    "control = df[df.exp_group == 1].copy()\n",
    "sns.histplot(control.ctr, \n",
    "             kde = False)"
   ]
  },
  {
   "cell_type": "code",
   "execution_count": 76,
   "id": "517ec8ae-5b6c-4bca-84eb-a9812f99f307",
   "metadata": {},
   "outputs": [
    {
     "data": {
      "text/plain": [
       "<Axes: xlabel='ctr', ylabel='Count'>"
      ]
     },
     "execution_count": 76,
     "metadata": {},
     "output_type": "execute_result"
    },
    {
     "data": {
      "image/png": "[encoded data removed]",
      "text/plain": [
       "<Figure size 576x360 with 1 Axes>"
      ]
     },
     "metadata": {},
     "output_type": "display_data"
    }
   ],
   "source": [
    "#посмотрим на CTR тестовой группы\n",
    "test = df[df.exp_group == 2].copy()\n",
    "sns.histplot(test.ctr, \n",
    "             kde = False)"
   ]
  },
  {
   "cell_type": "markdown",
   "id": "d3fa6c1f-2fe1-4d4c-afdb-85049326777d",
   "metadata": {},
   "source": [
    "B что мы видим? Распределение имеет две выраженные моды, оно бимодально, получается, что CTR в группе 2 при проведении теста частично вырос, но в то же время какая-то часть данной метрики наоборот просела.\n",
    "\n",
    "На гистограммах видно, что распределения ненормальны (в контрольной есть болшой хвост, выбросы, про тестовую уже сказано выше), но проверим еще данные с помощью Шапиро-Уилка, а также сравним дисперсии в двух грппах."
   ]
  },
  {
   "cell_type": "code",
   "execution_count": 77,
   "id": "5d36b2c8-5cd9-44d2-9cbf-b7b607495ab2",
   "metadata": {},
   "outputs": [
    {
     "name": "stderr",
     "output_type": "stream",
     "text": [
      "/opt/conda/lib/python3.8/site-packages/scipy/stats/_morestats.py:1816: UserWarning: p-value may not be accurate for N > 5000.\n",
      "  warnings.warn(\"p-value may not be accurate for N > 5000.\")\n",
      "/opt/conda/lib/python3.8/site-packages/scipy/stats/_morestats.py:1816: UserWarning: p-value may not be accurate for N > 5000.\n",
      "  warnings.warn(\"p-value may not be accurate for N > 5000.\")\n"
     ]
    },
    {
     "data": {
      "text/html": [
       "<div>\n",
       "<style scoped>\n",
       "    .dataframe tbody tr th:only-of-type {\n",
       "        vertical-align: middle;\n",
       "    }\n",
       "\n",
       "    .dataframe tbody tr th {\n",
       "        vertical-align: top;\n",
       "    }\n",
       "\n",
       "    .dataframe thead th {\n",
       "        text-align: right;\n",
       "    }\n",
       "</style>\n",
       "<table border=\"1\" class=\"dataframe\">\n",
       "  <thead>\n",
       "    <tr style=\"text-align: right;\">\n",
       "      <th></th>\n",
       "      <th>W</th>\n",
       "      <th>pval</th>\n",
       "      <th>normal</th>\n",
       "    </tr>\n",
       "    <tr>\n",
       "      <th>exp_group</th>\n",
       "      <th></th>\n",
       "      <th></th>\n",
       "      <th></th>\n",
       "    </tr>\n",
       "  </thead>\n",
       "  <tbody>\n",
       "    <tr>\n",
       "      <th>1</th>\n",
       "      <td>0.951870</td>\n",
       "      <td>0.0</td>\n",
       "      <td>False</td>\n",
       "    </tr>\n",
       "    <tr>\n",
       "      <th>2</th>\n",
       "      <td>0.893145</td>\n",
       "      <td>0.0</td>\n",
       "      <td>False</td>\n",
       "    </tr>\n",
       "  </tbody>\n",
       "</table>\n",
       "</div>"
      ],
      "text/plain": [
       "                  W  pval  normal\n",
       "exp_group                        \n",
       "1          0.951870   0.0   False\n",
       "2          0.893145   0.0   False"
      ]
     },
     "execution_count": 77,
     "metadata": {},
     "output_type": "execute_result"
    }
   ],
   "source": [
    "pg.normality(data=df, dv=\"ctr\", group=\"exp_group\", method=\"shapiro\")"
   ]
  },
  {
   "cell_type": "code",
   "execution_count": 78,
   "id": "44d5452b-ad8e-4461-8cf3-fd5e1f19dd01",
   "metadata": {},
   "outputs": [
    {
     "data": {
      "text/html": [
       "<div>\n",
       "<style scoped>\n",
       "    .dataframe tbody tr th:only-of-type {\n",
       "        vertical-align: middle;\n",
       "    }\n",
       "\n",
       "    .dataframe tbody tr th {\n",
       "        vertical-align: top;\n",
       "    }\n",
       "\n",
       "    .dataframe thead th {\n",
       "        text-align: right;\n",
       "    }\n",
       "</style>\n",
       "<table border=\"1\" class=\"dataframe\">\n",
       "  <thead>\n",
       "    <tr style=\"text-align: right;\">\n",
       "      <th></th>\n",
       "      <th>W</th>\n",
       "      <th>pval</th>\n",
       "      <th>equal_var</th>\n",
       "    </tr>\n",
       "  </thead>\n",
       "  <tbody>\n",
       "    <tr>\n",
       "      <th>levene</th>\n",
       "      <td>2757.794065</td>\n",
       "      <td>0.0</td>\n",
       "      <td>False</td>\n",
       "    </tr>\n",
       "  </tbody>\n",
       "</table>\n",
       "</div>"
      ],
      "text/plain": [
       "                  W  pval  equal_var\n",
       "levene  2757.794065   0.0      False"
      ]
     },
     "execution_count": 78,
     "metadata": {},
     "output_type": "execute_result"
    }
   ],
   "source": [
    "pg.homoscedasticity(data=df, dv=\"ctr\", group=\"exp_group\")"
   ]
  },
  {
   "cell_type": "markdown",
   "id": "0307d97d-e939-42d4-aac6-26f99d7bdbe4",
   "metadata": {},
   "source": [
    "Распределение метрики CTR в обеих группах ненормальное, дисперсии не равны. Следовательно, для проведения первого теста по нашей метрике нужно будет взять t-тест с поправкой Уэлча на неравенство дисперсий."
   ]
  },
  {
   "cell_type": "markdown",
   "id": "723a6c8c-6553-48d5-ba87-240515978714",
   "metadata": {},
   "source": [
    "**T-тест и тест Манна-Уитни**"
   ]
  },
  {
   "cell_type": "code",
   "execution_count": 79,
   "id": "4b32d82c-940d-4481-b01c-bbd671a527c8",
   "metadata": {},
   "outputs": [
    {
     "name": "stdout",
     "output_type": "stream",
     "text": [
      "статистика: 0.4051491913112757\n",
      "p-значение: 0.685373331140751\n",
      "Не отвергаем нулевую гипотезу. Средние значения выборок не различаются\n"
     ]
    }
   ],
   "source": [
    "# проведем T-test (сравним средний CTR в группах)\n",
    "statistic, pvalue = scipy.stats.ttest_ind(df[df.exp_group == 1].ctr,\n",
    "                df[df.exp_group == 2].ctr,\n",
    "                equal_var=False)\n",
    "\n",
    "print(f\"статистика: {statistic}\")\n",
    "print(f\"p-значение: {pvalue}\")\n",
    "\n",
    "# Проверка статистической значимости\n",
    "alpha = 0.05\n",
    "if pvalue < alpha:\n",
    "    print(\"Отвергаем нулевую гипотезу. Средние значения выборок различаются\")\n",
    "else:\n",
    "    print(\"Не отвергаем нулевую гипотезу. Средние значения выборок не различаются\")"
   ]
  },
  {
   "cell_type": "code",
   "execution_count": 80,
   "id": "7f1387ba-c026-4200-9116-bcb95d1eb6f0",
   "metadata": {},
   "outputs": [
    {
     "name": "stdout",
     "output_type": "stream",
     "text": [
      "статистика: 55189913.0\n",
      "p-значение: 4.632205841806026e-45\n",
      "Отвергаем нулевую гипотезу. Выбороки различаются\n"
     ]
    }
   ],
   "source": [
    "# проведем тест Манна-Уитни (сравним, есть ли разница в распределении CTR в группах)\n",
    "statistic, pvalue = scipy.stats.mannwhitneyu(df[df.exp_group == 1].ctr, \n",
    "                   df[df.exp_group == 2].ctr,\n",
    "                   alternative = 'two-sided')\n",
    "\n",
    "print(f\"статистика: {statistic}\")\n",
    "print(f\"p-значение: {pvalue}\")\n",
    "\n",
    "# Проверка статистической значимости\n",
    "alpha = 0.05\n",
    "if pvalue < alpha:\n",
    "    print(\"Отвергаем нулевую гипотезу. Выбороки различаются\")\n",
    "else:\n",
    "    print(\"Не отвергаем нулевую гипотезу. Выбороки не различаются\")"
   ]
  },
  {
   "cell_type": "markdown",
   "id": "eb0d3a68-3a65-44f1-8277-13368e1f9f76",
   "metadata": {},
   "source": [
    "T-тест показал, что средние значения CTR в группах не различаются. А тест Манна-Уитни показал, что распределение метрики CTR различается между группами."
   ]
  },
  {
   "cell_type": "markdown",
   "id": "e8140c91-6ab6-44c2-8523-4bf85e8f4a46",
   "metadata": {},
   "source": [
    "**Пуассоновский бутстреп**"
   ]
  },
  {
   "cell_type": "code",
   "execution_count": 81,
   "id": "0face4c7-4ee3-4c23-a1c8-d2dfbbea4e45",
   "metadata": {},
   "outputs": [
    {
     "data": {
      "text/plain": [
       "<Axes: ylabel='Count'>"
      ]
     },
     "execution_count": 81,
     "metadata": {},
     "output_type": "execute_result"
    },
    {
     "data": {
      "image/png": "[encoded data removed]",
      "text/plain": [
       "<Figure size 576x360 with 1 Axes>"
      ]
     },
     "metadata": {},
     "output_type": "display_data"
    }
   ],
   "source": [
    "def bootstrap(likes1, views1, likes2, views2, n_bootstrap=2000):\n",
    "\n",
    "    poisson_bootstraps1 = scipy.stats.poisson(1).rvs(\n",
    "        (n_bootstrap, len(likes1))).astype(np.int64)\n",
    "\n",
    "    poisson_bootstraps2 = scipy.stats.poisson(1).rvs(\n",
    "            (n_bootstrap, len(likes2))).astype(np.int64)\n",
    "    \n",
    "    globalCTR1 = (poisson_bootstraps1*likes1).sum(axis=1)/(poisson_bootstraps1*views1).sum(axis=1)\n",
    "    \n",
    "    globalCTR2 = (poisson_bootstraps2*likes2).sum(axis=1)/(poisson_bootstraps2*views2).sum(axis=1)\n",
    "\n",
    "    return globalCTR1, globalCTR2\n",
    "\n",
    "\n",
    "likes1 = df[df.exp_group == 1].likes.to_numpy()\n",
    "views1 = df[df.exp_group == 1].views.to_numpy()\n",
    "likes2 = df[df.exp_group == 2].likes.to_numpy()\n",
    "views2 = df[df.exp_group == 2].views.to_numpy()\n",
    "\n",
    "ctr1, ctr2 = bootstrap(likes1, views1, likes2, views2)\n",
    "\n",
    "sns.histplot(ctr1)\n",
    "sns.histplot(ctr2)"
   ]
  },
  {
   "cell_type": "code",
   "execution_count": 82,
   "id": "f73d28e4-4ded-4cb3-9616-9817b7da17ea",
   "metadata": {},
   "outputs": [
    {
     "data": {
      "text/plain": [
       "<Axes: ylabel='Count'>"
      ]
     },
     "execution_count": 82,
     "metadata": {},
     "output_type": "execute_result"
    },
    {
     "data": {
      "image/png": "[encoded data removed]",
      "text/plain": [
       "<Figure size 576x360 with 1 Axes>"
      ]
     },
     "metadata": {},
     "output_type": "display_data"
    }
   ],
   "source": [
    "sns.histplot(ctr2 - ctr1)"
   ]
  },
  {
   "cell_type": "markdown",
   "id": "ac704a52-0b75-4a6b-831d-40accd163d60",
   "metadata": {},
   "source": [
    "Гистограмма разности не пересекает 0, разница между группами отрицательная и не нулевая, значит, контрольная группа показала лучший результат по CTR, чем тестовая группа."
   ]
  },
  {
   "cell_type": "markdown",
   "id": "2c60e850-d4c3-4260-a58b-828bd3f26297",
   "metadata": {},
   "source": [
    "**T-тест и тест Манна-Уитни поверх бакетного преобразования**"
   ]
  },
  {
   "cell_type": "code",
   "execution_count": 83,
   "id": "5f9d2c21-fd03-46ad-95e2-cfaa26fac363",
   "metadata": {},
   "outputs": [
    {
     "data": {
      "text/html": [
       "<div>\n",
       "<style scoped>\n",
       "    .dataframe tbody tr th:only-of-type {\n",
       "        vertical-align: middle;\n",
       "    }\n",
       "\n",
       "    .dataframe tbody tr th {\n",
       "        vertical-align: top;\n",
       "    }\n",
       "\n",
       "    .dataframe thead th {\n",
       "        text-align: right;\n",
       "    }\n",
       "</style>\n",
       "<table border=\"1\" class=\"dataframe\">\n",
       "  <thead>\n",
       "    <tr style=\"text-align: right;\">\n",
       "      <th></th>\n",
       "      <th>exp_group</th>\n",
       "      <th>bucket</th>\n",
       "      <th>bucket_ctr</th>\n",
       "    </tr>\n",
       "  </thead>\n",
       "  <tbody>\n",
       "    <tr>\n",
       "      <th>0</th>\n",
       "      <td>1</td>\n",
       "      <td>0</td>\n",
       "      <td>0.200592</td>\n",
       "    </tr>\n",
       "    <tr>\n",
       "      <th>1</th>\n",
       "      <td>2</td>\n",
       "      <td>0</td>\n",
       "      <td>0.196510</td>\n",
       "    </tr>\n",
       "    <tr>\n",
       "      <th>2</th>\n",
       "      <td>1</td>\n",
       "      <td>1</td>\n",
       "      <td>0.208799</td>\n",
       "    </tr>\n",
       "    <tr>\n",
       "      <th>3</th>\n",
       "      <td>2</td>\n",
       "      <td>1</td>\n",
       "      <td>0.210375</td>\n",
       "    </tr>\n",
       "    <tr>\n",
       "      <th>4</th>\n",
       "      <td>1</td>\n",
       "      <td>2</td>\n",
       "      <td>0.204632</td>\n",
       "    </tr>\n",
       "    <tr>\n",
       "      <th>...</th>\n",
       "      <td>...</td>\n",
       "      <td>...</td>\n",
       "      <td>...</td>\n",
       "    </tr>\n",
       "    <tr>\n",
       "      <th>95</th>\n",
       "      <td>2</td>\n",
       "      <td>47</td>\n",
       "      <td>0.196808</td>\n",
       "    </tr>\n",
       "    <tr>\n",
       "      <th>96</th>\n",
       "      <td>1</td>\n",
       "      <td>48</td>\n",
       "      <td>0.216369</td>\n",
       "    </tr>\n",
       "    <tr>\n",
       "      <th>97</th>\n",
       "      <td>2</td>\n",
       "      <td>48</td>\n",
       "      <td>0.194780</td>\n",
       "    </tr>\n",
       "    <tr>\n",
       "      <th>98</th>\n",
       "      <td>1</td>\n",
       "      <td>49</td>\n",
       "      <td>0.206288</td>\n",
       "    </tr>\n",
       "    <tr>\n",
       "      <th>99</th>\n",
       "      <td>2</td>\n",
       "      <td>49</td>\n",
       "      <td>0.192512</td>\n",
       "    </tr>\n",
       "  </tbody>\n",
       "</table>\n",
       "<p>100 rows × 3 columns</p>\n",
       "</div>"
      ],
      "text/plain": [
       "    exp_group  bucket  bucket_ctr\n",
       "0           1       0    0.200592\n",
       "1           2       0    0.196510\n",
       "2           1       1    0.208799\n",
       "3           2       1    0.210375\n",
       "4           1       2    0.204632\n",
       "..        ...     ...         ...\n",
       "95          2      47    0.196808\n",
       "96          1      48    0.216369\n",
       "97          2      48    0.194780\n",
       "98          1      49    0.206288\n",
       "99          2      49    0.192512\n",
       "\n",
       "[100 rows x 3 columns]"
      ]
     },
     "execution_count": 83,
     "metadata": {},
     "output_type": "execute_result"
    }
   ],
   "source": [
    "#распределяем пользователей по бакетам\n",
    "q = \"\"\"\n",
    "\n",
    "SELECT exp_group, bucket,\n",
    "    sum(likes)/sum(views) as bucket_ctr\n",
    "FROM (SELECT exp_group, \n",
    "        xxHash64(user_id)%50 as bucket,\n",
    "        user_id,\n",
    "        sum(action = 'like') as likes,\n",
    "        sum(action = 'view') as views,\n",
    "        likes/views as ctr\n",
    "    FROM {db}.feed_actions \n",
    "    WHERE toDate(time) between '2024-09-27' and '2024-10-03'\n",
    "        and exp_group in (1,2)\n",
    "    GROUP BY exp_group, bucket, user_id)\n",
    "GROUP BY exp_group, bucket\n",
    "\"\"\"\n",
    "\n",
    "df_b = ph.read_clickhouse(q, connection=connection)\n",
    "df_b"
   ]
  },
  {
   "cell_type": "markdown",
   "id": "ce6856ee-9b32-44c4-a89a-afe9c8d29ba2",
   "metadata": {},
   "source": [
    "Посмотрим на всякий случай на распределение и дисперсии нашего bucket_ctr в группах."
   ]
  },
  {
   "cell_type": "code",
   "execution_count": 84,
   "id": "428f4f84-6a49-4e7d-b723-82c206cace7f",
   "metadata": {},
   "outputs": [
    {
     "data": {
      "text/plain": [
       "<Axes: xlabel='Theoretical quantiles', ylabel='Ordered quantiles'>"
      ]
     },
     "execution_count": 84,
     "metadata": {},
     "output_type": "execute_result"
    },
    {
     "data": {
      "image/png": "[encoded data removed]",
      "text/plain": [
       "<Figure size 576x360 with 1 Axes>"
      ]
     },
     "metadata": {},
     "output_type": "display_data"
    }
   ],
   "source": [
    "pg.qqplot(df_b.query('exp_group == 1')['bucket_ctr'])"
   ]
  },
  {
   "cell_type": "code",
   "execution_count": 85,
   "id": "388970d2-ddf1-46cb-b8f4-dd9b192c8f34",
   "metadata": {},
   "outputs": [
    {
     "data": {
      "text/plain": [
       "<Axes: xlabel='Theoretical quantiles', ylabel='Ordered quantiles'>"
      ]
     },
     "execution_count": 85,
     "metadata": {},
     "output_type": "execute_result"
    },
    {
     "data": {
      "image/png": "[encoded data removed]",
      "text/plain": [
       "<Figure size 576x360 with 1 Axes>"
      ]
     },
     "metadata": {},
     "output_type": "display_data"
    }
   ],
   "source": [
    "pg.qqplot(df_b.query('exp_group == 2')['bucket_ctr'])"
   ]
  },
  {
   "cell_type": "code",
   "execution_count": 86,
   "id": "c1b5b35f-b048-4dd5-ac14-82269a0331ff",
   "metadata": {},
   "outputs": [
    {
     "data": {
      "text/html": [
       "<div>\n",
       "<style scoped>\n",
       "    .dataframe tbody tr th:only-of-type {\n",
       "        vertical-align: middle;\n",
       "    }\n",
       "\n",
       "    .dataframe tbody tr th {\n",
       "        vertical-align: top;\n",
       "    }\n",
       "\n",
       "    .dataframe thead th {\n",
       "        text-align: right;\n",
       "    }\n",
       "</style>\n",
       "<table border=\"1\" class=\"dataframe\">\n",
       "  <thead>\n",
       "    <tr style=\"text-align: right;\">\n",
       "      <th></th>\n",
       "      <th>W</th>\n",
       "      <th>pval</th>\n",
       "      <th>normal</th>\n",
       "    </tr>\n",
       "    <tr>\n",
       "      <th>exp_group</th>\n",
       "      <th></th>\n",
       "      <th></th>\n",
       "      <th></th>\n",
       "    </tr>\n",
       "  </thead>\n",
       "  <tbody>\n",
       "    <tr>\n",
       "      <th>1</th>\n",
       "      <td>0.984154</td>\n",
       "      <td>0.734733</td>\n",
       "      <td>True</td>\n",
       "    </tr>\n",
       "    <tr>\n",
       "      <th>2</th>\n",
       "      <td>0.958589</td>\n",
       "      <td>0.077584</td>\n",
       "      <td>True</td>\n",
       "    </tr>\n",
       "  </tbody>\n",
       "</table>\n",
       "</div>"
      ],
      "text/plain": [
       "                  W      pval  normal\n",
       "exp_group                            \n",
       "1          0.984154  0.734733    True\n",
       "2          0.958589  0.077584    True"
      ]
     },
     "execution_count": 86,
     "metadata": {},
     "output_type": "execute_result"
    }
   ],
   "source": [
    "pg.normality(data=df_b, dv=\"bucket_ctr\", group=\"exp_group\", method=\"shapiro\")"
   ]
  },
  {
   "cell_type": "code",
   "execution_count": 87,
   "id": "4d0d6f3d-87b2-4182-9b05-f30b1c81bf58",
   "metadata": {},
   "outputs": [
    {
     "data": {
      "text/html": [
       "<div>\n",
       "<style scoped>\n",
       "    .dataframe tbody tr th:only-of-type {\n",
       "        vertical-align: middle;\n",
       "    }\n",
       "\n",
       "    .dataframe tbody tr th {\n",
       "        vertical-align: top;\n",
       "    }\n",
       "\n",
       "    .dataframe thead th {\n",
       "        text-align: right;\n",
       "    }\n",
       "</style>\n",
       "<table border=\"1\" class=\"dataframe\">\n",
       "  <thead>\n",
       "    <tr style=\"text-align: right;\">\n",
       "      <th></th>\n",
       "      <th>W</th>\n",
       "      <th>pval</th>\n",
       "      <th>equal_var</th>\n",
       "    </tr>\n",
       "  </thead>\n",
       "  <tbody>\n",
       "    <tr>\n",
       "      <th>levene</th>\n",
       "      <td>19.517796</td>\n",
       "      <td>0.000026</td>\n",
       "      <td>False</td>\n",
       "    </tr>\n",
       "  </tbody>\n",
       "</table>\n",
       "</div>"
      ],
      "text/plain": [
       "                W      pval  equal_var\n",
       "levene  19.517796  0.000026      False"
      ]
     },
     "execution_count": 87,
     "metadata": {},
     "output_type": "execute_result"
    }
   ],
   "source": [
    "pg.homoscedasticity(data=df_b, dv=\"bucket_ctr\", group=\"exp_group\")"
   ]
  },
  {
   "cell_type": "code",
   "execution_count": 88,
   "id": "38295696-d35a-42ee-9163-069c8c8d165b",
   "metadata": {},
   "outputs": [
    {
     "data": {
      "text/plain": [
       "<matplotlib.legend.Legend at 0x7ff928fee8e0>"
      ]
     },
     "execution_count": 88,
     "metadata": {},
     "output_type": "execute_result"
    },
    {
     "data": {
      "image/png": "[encoded data removed]",
      "text/plain": [
       "<Figure size 576x360 with 1 Axes>"
      ]
     },
     "metadata": {},
     "output_type": "display_data"
    }
   ],
   "source": [
    "#на всякий случай посмотрим еще на побакетные CTR глазами:)\n",
    "sns.set(rc={'figure.figsize':(8,5)})\n",
    "sns.histplot(df_b[df_b.exp_group == 1].bucket_ctr, kde = False, label = \"control\")\n",
    "sns.histplot(df_b[df_b.exp_group == 2].bucket_ctr, kde = False, label = \"test\")\n",
    "\n",
    "plt.legend()"
   ]
  },
  {
   "cell_type": "markdown",
   "id": "f4c76a35-fc93-415c-8602-b13b99592533",
   "metadata": {},
   "source": [
    "Распределение побакетного CTR в обеих группах нормальное ( + бимодальность в побакетном CTR не выражена), дисперсии не равны. Поскольку распределение побакетного CTR нормальное, то будем применять только t-тест с поправкой Уэлча на неравенство дисперсий. Тест Манна-Уитни использовать в данном случае нет смысла."
   ]
  },
  {
   "cell_type": "code",
   "execution_count": 89,
   "id": "c3d7a020-04fb-4ba7-9b71-b1b51c95ed94",
   "metadata": {},
   "outputs": [
    {
     "name": "stdout",
     "output_type": "stream",
     "text": [
      "статистика: 5.614819358149381\n",
      "p-значение: 4.592644937473873e-07\n",
      "Отвергаем нулевую гипотезу. Средние значения выборок различаются\n"
     ]
    }
   ],
   "source": [
    "# T-test\n",
    "statistic, pvalue = scipy.stats.ttest_ind(df_b[df_b.exp_group == 1].bucket_ctr,\n",
    "                df_b[df_b.exp_group == 2].bucket_ctr,\n",
    "                equal_var=False)\n",
    "\n",
    "print(f\"статистика: {statistic}\")\n",
    "print(f\"p-значение: {pvalue}\")\n",
    "\n",
    "# Проверка статистической значимости\n",
    "alpha = 0.05\n",
    "if pvalue < alpha:\n",
    "    print(\"Отвергаем нулевую гипотезу. Средние значения выборок различаются\")\n",
    "else:\n",
    "    print(\"Не отвергаем нулевую гипотезу. Средние значения выборок не различаются\")"
   ]
  },
  {
   "cell_type": "code",
   "execution_count": 90,
   "id": "8eb73e45-5069-4e41-990f-628c2a98e7e7",
   "metadata": {},
   "outputs": [
    {
     "data": {
      "text/plain": [
       "exp_group\n",
       "1    0.209694\n",
       "2    0.200457\n",
       "Name: bucket_ctr, dtype: float64"
      ]
     },
     "execution_count": 90,
     "metadata": {},
     "output_type": "execute_result"
    }
   ],
   "source": [
    "df_b.groupby('exp_group')['bucket_ctr'].mean()"
   ]
  },
  {
   "cell_type": "markdown",
   "id": "defb7534-aec2-4562-82ce-f1157a90239f",
   "metadata": {},
   "source": [
    "T-тест поверх бакетного преобразования показал,что средние побакетные CTR в группах различаются. Т.е. средний побакетный CTR в контрольной группе выше, чем в тестовой."
   ]
  },
  {
   "cell_type": "markdown",
   "id": "cc2ad9e6-4d0a-43b1-9df6-5a1e4e3fbbba",
   "metadata": {},
   "source": [
    "### Вывод"
   ]
  },
  {
   "cell_type": "markdown",
   "id": "bb3c8de6-5c6c-4eab-9752-f25db7b6e978",
   "metadata": {},
   "source": [
    " - T-тест с поправкой Уэлча не показал разницу в средних значениях CTR между тестовой и контрольной группой, поскольку визуально средний CTR у двух групп +- схож, и проведенные изменения не были достаточно значительными, чтобы повлиять на средние.\n",
    " \n",
    " - Тест Манна-Уитни показал, что распределение метрики CTR между группами отличается. Вероятно, это объясняется тем, что разница в средних значениях CTR хоть статистически и не значима, но тест Манна-Уитни сравнивает именно распределение метрики, и он более чувствителен к различиям ее распределения (т.к. в тестовой группе распределение бимодально).\n",
    "\n",
    " - Пуассоновский бутстреп показал, что контрольная группа имеет лучший CTR, чем тестовая. Данный метод выдает более точный результат, так как он учитывает случайные вариации и устойчив к выбросам, бимодальности.\n",
    "\n",
    " - Бакетное преобразование свело к минимуму влияние выбросов и колебаний в данных (распределение побакетного CTR в обеих группах нормальное) и обеспечило более ровный анализ, в котором t-тест показал, что средний побакетный CTR в контрольной группе выше, чем в тестовой.\n",
    "\n",
    "Основываясь на результатах проведенного анализа можно сделать вывод о том, что, в целом, различия в метрике CTR между тестовой и контрольной группами, либо отсутствуют, либо контрольная группа по данной метрике превосходит тестовую, что противоречит нашей изначальной гипотезе. Проведенный эксперимент можно считать неудачным, раскатывать новый алгоритм на всех пользователей не стоит. В дальнейшем требуется дополнительное исследование, направленное на выявление причины бимодальности в метрике CTR в тестовой группе (т.к. в ней CTR вырос только у части пользователей, а у другой части - наоборот упал)."
   ]
  }
 ],
 "metadata": {
  "kernelspec": {
   "display_name": "Python 3 (ipykernel)",
   "language": "python",
   "name": "python3"
  },
  "language_info": {
   "codemirror_mode": {
    "name": "ipython",
    "version": 3
   },
   "file_extension": ".py",
   "mimetype": "text/x-python",
   "name": "python",
   "nbconvert_exporter": "python",
   "pygments_lexer": "ipython3",
   "version": "3.8.10"
  }
 },
 "nbformat": 4,
 "nbformat_minor": 5
}
